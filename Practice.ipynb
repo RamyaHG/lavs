{
  "nbformat": 4,
  "nbformat_minor": 0,
  "metadata": {
    "colab": {
      "name": "Untitled1.ipynb",
      "provenance": [],
      "collapsed_sections": [],
      "authorship_tag": "ABX9TyMvn1cEN3OVoqH3+tR2OCW1",
      "include_colab_link": true
    },
    "kernelspec": {
      "display_name": "Python 3",
      "name": "python3"
    }
  },
  "cells": [
    {
      "cell_type": "markdown",
      "metadata": {
        "id": "view-in-github",
        "colab_type": "text"
      },
      "source": [
        "<a href=\"https://colab.research.google.com/github/RamyaHG/lavs/blob/master/Practice.ipynb\" target=\"_parent\"><img src=\"https://colab.research.google.com/assets/colab-badge.svg\" alt=\"Open In Colab\"/></a>"
      ]
    },
    {
      "cell_type": "markdown",
      "metadata": {
        "id": "FKbpMNj_X5zR"
      },
      "source": [
        "Program to insert the missing number in the series"
      ]
    },
    {
      "cell_type": "code",
      "metadata": {
        "id": "OF_QGOvj4GN7",
        "outputId": "dede8d21-18a6-426c-9a53-716569a1a4e4",
        "colab": {
          "base_uri": "https://localhost:8080/",
          "height": 34
        }
      },
      "source": [
        "l=[12,24,48,60]\n",
        "l.insert(2,36)\n",
        "print(l)"
      ],
      "execution_count": null,
      "outputs": [
        {
          "output_type": "stream",
          "text": [
            "[12, 24, 36, 48, 60]\n"
          ],
          "name": "stdout"
        }
      ]
    },
    {
      "cell_type": "markdown",
      "metadata": {
        "id": "JNDMyobZYxPc"
      },
      "source": [
        "Program to append the next number in series"
      ]
    },
    {
      "cell_type": "code",
      "metadata": {
        "id": "E733K-7tYw3Y",
        "outputId": "ce71eb25-e47d-486a-b9d2-d0550c16cec2",
        "colab": {
          "base_uri": "https://localhost:8080/",
          "height": 34
        }
      },
      "source": [
        "l=[13,26,39]\n",
        "l.append(52)\n",
        "print(l)"
      ],
      "execution_count": null,
      "outputs": [
        {
          "output_type": "stream",
          "text": [
            "[13, 26, 39, 52]\n"
          ],
          "name": "stdout"
        }
      ]
    },
    {
      "cell_type": "markdown",
      "metadata": {
        "id": "zpkv_DZlZJ0n"
      },
      "source": [
        "Program to remove a wrong data entered in the series"
      ]
    },
    {
      "cell_type": "code",
      "metadata": {
        "id": "-3p-rp40aESu",
        "outputId": "1b2c939e-9eb6-4004-b2d4-7852f46bbaba",
        "colab": {
          "base_uri": "https://localhost:8080/",
          "height": 34
        }
      },
      "source": [
        "l=[2,4,6,7,8]\n",
        "l.remove(7)\n",
        "print(l)"
      ],
      "execution_count": null,
      "outputs": [
        {
          "output_type": "stream",
          "text": [
            "[2, 4, 6, 8]\n"
          ],
          "name": "stdout"
        }
      ]
    },
    {
      "cell_type": "markdown",
      "metadata": {
        "id": "EPeYJRFhaRhW"
      },
      "source": [
        "Program to sort the jumbled numbers in the series"
      ]
    },
    {
      "cell_type": "code",
      "metadata": {
        "id": "XijYE5VYaRw2",
        "outputId": "c0de8461-62a5-4e41-ca67-f33f9e4dc837",
        "colab": {
          "base_uri": "https://localhost:8080/",
          "height": 34
        }
      },
      "source": [
        "l=[12,14,13,15]\n",
        "l.sort()\n",
        "print(l)"
      ],
      "execution_count": null,
      "outputs": [
        {
          "output_type": "stream",
          "text": [
            "[12, 13, 14, 15]\n"
          ],
          "name": "stdout"
        }
      ]
    },
    {
      "cell_type": "markdown",
      "metadata": {
        "id": "rHJ_lBCkaR-a"
      },
      "source": [
        "Program to Pop A number"
      ]
    },
    {
      "cell_type": "code",
      "metadata": {
        "id": "khghetQeaSMs",
        "outputId": "fa56c694-c822-4b06-d693-f1e60b7d83e6",
        "colab": {
          "base_uri": "https://localhost:8080/",
          "height": 34
        }
      },
      "source": [
        "l=[23,24,25,26]\n",
        "l.pop(2)\n",
        "print(l)"
      ],
      "execution_count": null,
      "outputs": [
        {
          "output_type": "stream",
          "text": [
            "[23, 24, 26]\n"
          ],
          "name": "stdout"
        }
      ]
    },
    {
      "cell_type": "markdown",
      "metadata": {
        "id": "4_8mkUjCberF"
      },
      "source": [
        "Identify the index of a given number"
      ]
    },
    {
      "cell_type": "code",
      "metadata": {
        "id": "-tJE2LfGbfCN",
        "outputId": "a7b58046-4727-434e-b25e-2ba85784fe57",
        "colab": {
          "base_uri": "https://localhost:8080/",
          "height": 34
        }
      },
      "source": [
        "l=[1,3,4,6,7,9,85,43]\n",
        "x=l.index(85)\n",
        "print(x)"
      ],
      "execution_count": null,
      "outputs": [
        {
          "output_type": "stream",
          "text": [
            "6\n"
          ],
          "name": "stdout"
        }
      ]
    },
    {
      "cell_type": "code",
      "metadata": {
        "id": "SfGDFkRREIYv"
      },
      "source": [
        ""
      ],
      "execution_count": null,
      "outputs": []
    },
    {
      "cell_type": "markdown",
      "metadata": {
        "id": "BLJ4uR50cRmc"
      },
      "source": [
        "Identify the length of the series"
      ]
    },
    {
      "cell_type": "code",
      "metadata": {
        "id": "2ToWAvpbcYm1",
        "outputId": "ea0ad46e-6e2a-4a97-f659-812fe9b24e64",
        "colab": {
          "background_save": true,
          "base_uri": "https://localhost:8080/",
          "height": 195
        }
      },
      "source": [
        "l=[2,5,6,78,9,8,53,66]\n",
        "x=len(l)\n",
        "print(x)"
      ],
      "execution_count": null,
      "outputs": [
        {
          "output_type": "stream",
          "text": [
            "8\n"
          ],
          "name": "stdout"
        }
      ]
    },
    {
      "cell_type": "markdown",
      "metadata": {
        "id": "0E612XutdVlu"
      },
      "source": [
        "Reverse the given series"
      ]
    },
    {
      "cell_type": "code",
      "metadata": {
        "id": "7z6hnH_zdV2W",
        "outputId": "28727200-545c-44ce-a8fa-1a4dfb7a7ffb",
        "colab": {
          "base_uri": "https://localhost:8080/",
          "height": 34
        }
      },
      "source": [
        "l=[3,4,1]\n",
        "l.reverse()\n",
        "print(l)"
      ],
      "execution_count": null,
      "outputs": [
        {
          "output_type": "stream",
          "text": [
            "[1, 4, 3]\n"
          ],
          "name": "stdout"
        }
      ]
    },
    {
      "cell_type": "markdown",
      "metadata": {
        "id": "cu9DwWlmdtSg"
      },
      "source": [
        "Count the given series"
      ]
    },
    {
      "cell_type": "code",
      "metadata": {
        "id": "XH5ipsWadtmp",
        "outputId": "7d63add0-7ce6-4e33-9134-6a1a670bbcd1",
        "colab": {
          "base_uri": "https://localhost:8080/",
          "height": 34
        }
      },
      "source": [
        "l=[1,2,3,4,3,4,5,3]\n",
        "x=l.count(4)\n",
        "print(x)"
      ],
      "execution_count": null,
      "outputs": [
        {
          "output_type": "stream",
          "text": [
            "2\n"
          ],
          "name": "stdout"
        }
      ]
    },
    {
      "cell_type": "markdown",
      "metadata": {
        "id": "jDO--bqyeCjF"
      },
      "source": [
        "Add given series"
      ]
    },
    {
      "cell_type": "code",
      "metadata": {
        "id": "XnSEXBjVeC6B",
        "outputId": "72816824-50ff-4e3c-9e5a-e07303a7ccb5",
        "colab": {
          "base_uri": "https://localhost:8080/",
          "height": 34
        }
      },
      "source": [
        "l=[9,12,23]\n",
        "x=sum(l)\n",
        "print(x)"
      ],
      "execution_count": null,
      "outputs": [
        {
          "output_type": "stream",
          "text": [
            "44\n"
          ],
          "name": "stdout"
        }
      ]
    },
    {
      "cell_type": "markdown",
      "metadata": {
        "id": "O46q9J0LeUYK"
      },
      "source": [
        "Find the max and min number in the series"
      ]
    },
    {
      "cell_type": "code",
      "metadata": {
        "id": "cmctTweGeUqz",
        "outputId": "47227bec-7d35-4de0-cf93-ad693a8e8c6c",
        "colab": {
          "base_uri": "https://localhost:8080/",
          "height": 50
        }
      },
      "source": [
        "l=[12,9,23]\n",
        "x=max(l)\n",
        "y=min(l)\n",
        "print(\"x=\",x)\n",
        "print(\"y=\",y)"
      ],
      "execution_count": null,
      "outputs": [
        {
          "output_type": "stream",
          "text": [
            "x= 23\n",
            "y= 9\n"
          ],
          "name": "stdout"
        }
      ]
    },
    {
      "cell_type": "code",
      "metadata": {
        "id": "F_8Ac9pJtg2M",
        "outputId": "5bc0912b-caaf-47a5-d508-143a04f883a6",
        "colab": {
          "base_uri": "https://localhost:8080/",
          "height": 67
        }
      },
      "source": [
        "l=[1,2,3,4,5,6,4,3]\n",
        "x=int(input(\"Enter the value\"))\n",
        "for i in range(len(l)):\n",
        "  if x==i:\n",
        "    print(l.index(i))\n",
        "    m=0\n",
        "    m=m+i\n",
        "print(m)"
      ],
      "execution_count": 35,
      "outputs": [
        {
          "output_type": "stream",
          "text": [
            "Enter the value3\n",
            "2\n",
            "3\n"
          ],
          "name": "stdout"
        }
      ]
    },
    {
      "cell_type": "code",
      "metadata": {
        "id": "50gq7DZU3if1",
        "outputId": "6b1ab56e-adf6-4e0f-f445-50305441d5d3",
        "colab": {
          "base_uri": "https://localhost:8080/",
          "height": 34
        }
      },
      "source": [
        "l=[]\n",
        "n=int(input(\"Enter the value\"))\n",
        "for i in range(0,n):\n",
        "  l.append(i)\n",
        "  for j in l:\n",
        "    mul=j*5\n",
        "    l.append(mul)\n",
        "print(l)"
      ],
      "execution_count": null,
      "outputs": [
        {
          "output_type": "stream",
          "text": [
            "Enter the value2\n"
          ],
          "name": "stdout"
        }
      ]
    }
  ]
}